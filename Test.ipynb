{
 "cells": [
  {
   "cell_type": "code",
   "execution_count": 1,
   "id": "154bc9e4",
   "metadata": {},
   "outputs": [],
   "source": [
    "import numpy as np\n",
    "import pandas as pd\n",
    "import matplotlib.pyplot as plt\n",
    "import seaborn as sns\n",
    "%matplotlib inline"
   ]
  },
  {
   "cell_type": "code",
   "execution_count": 3,
   "id": "58943246",
   "metadata": {},
   "outputs": [],
   "source": [
    "df = pd.read_excel(\"db/Analisis de Perdidas.xlsx\", sheet_name=\"db\", index_col=0)"
   ]
  },
  {
   "cell_type": "code",
   "execution_count": 4,
   "id": "d61a4ffe",
   "metadata": {},
   "outputs": [
    {
     "data": {
      "text/html": [
       "<div>\n",
       "<style scoped>\n",
       "    .dataframe tbody tr th:only-of-type {\n",
       "        vertical-align: middle;\n",
       "    }\n",
       "\n",
       "    .dataframe tbody tr th {\n",
       "        vertical-align: top;\n",
       "    }\n",
       "\n",
       "    .dataframe thead th {\n",
       "        text-align: right;\n",
       "    }\n",
       "</style>\n",
       "<table border=\"1\" class=\"dataframe\">\n",
       "  <thead>\n",
       "    <tr style=\"text-align: right;\">\n",
       "      <th></th>\n",
       "      <th>No.Mes</th>\n",
       "      <th>Mes</th>\n",
       "      <th>Semana</th>\n",
       "      <th>Día</th>\n",
       "      <th>Vol ELAB [Hl]</th>\n",
       "      <th>Vol ENVA [Hl]</th>\n",
       "      <th>Consumo EE CLP [kWh]</th>\n",
       "      <th>Observación</th>\n",
       "    </tr>\n",
       "    <tr>\n",
       "      <th>Date</th>\n",
       "      <th></th>\n",
       "      <th></th>\n",
       "      <th></th>\n",
       "      <th></th>\n",
       "      <th></th>\n",
       "      <th></th>\n",
       "      <th></th>\n",
       "      <th></th>\n",
       "    </tr>\n",
       "  </thead>\n",
       "  <tbody>\n",
       "    <tr>\n",
       "      <th>2021-11-01</th>\n",
       "      <td>11</td>\n",
       "      <td>Nov</td>\n",
       "      <td>Sem. 45</td>\n",
       "      <td>lu</td>\n",
       "      <td>0.000</td>\n",
       "      <td>0.0</td>\n",
       "      <td>8683.64</td>\n",
       "      <td>NaN</td>\n",
       "    </tr>\n",
       "    <tr>\n",
       "      <th>2021-11-02</th>\n",
       "      <td>11</td>\n",
       "      <td>Nov</td>\n",
       "      <td>Sem. 45</td>\n",
       "      <td>ma</td>\n",
       "      <td>0.000</td>\n",
       "      <td>0.0</td>\n",
       "      <td>6817.64</td>\n",
       "      <td>NaN</td>\n",
       "    </tr>\n",
       "    <tr>\n",
       "      <th>2021-11-03</th>\n",
       "      <td>11</td>\n",
       "      <td>Nov</td>\n",
       "      <td>Sem. 45</td>\n",
       "      <td>mi</td>\n",
       "      <td>0.000</td>\n",
       "      <td>0.0</td>\n",
       "      <td>7752.86</td>\n",
       "      <td>NaN</td>\n",
       "    </tr>\n",
       "    <tr>\n",
       "      <th>2021-11-04</th>\n",
       "      <td>11</td>\n",
       "      <td>Nov</td>\n",
       "      <td>Sem. 45</td>\n",
       "      <td>ju</td>\n",
       "      <td>5207.930</td>\n",
       "      <td>2833.0</td>\n",
       "      <td>18814.73</td>\n",
       "      <td>NaN</td>\n",
       "    </tr>\n",
       "    <tr>\n",
       "      <th>2021-11-05</th>\n",
       "      <td>11</td>\n",
       "      <td>Nov</td>\n",
       "      <td>Sem. 45</td>\n",
       "      <td>vi</td>\n",
       "      <td>5205.408</td>\n",
       "      <td>3442.0</td>\n",
       "      <td>20964.69</td>\n",
       "      <td>NaN</td>\n",
       "    </tr>\n",
       "  </tbody>\n",
       "</table>\n",
       "</div>"
      ],
      "text/plain": [
       "            No.Mes  Mes   Semana Día  Vol ELAB [Hl]  Vol ENVA [Hl]  \\\n",
       "Date                                                                 \n",
       "2021-11-01      11  Nov  Sem. 45  lu          0.000            0.0   \n",
       "2021-11-02      11  Nov  Sem. 45  ma          0.000            0.0   \n",
       "2021-11-03      11  Nov  Sem. 45  mi          0.000            0.0   \n",
       "2021-11-04      11  Nov  Sem. 45  ju       5207.930         2833.0   \n",
       "2021-11-05      11  Nov  Sem. 45  vi       5205.408         3442.0   \n",
       "\n",
       "            Consumo EE CLP [kWh] Observación  \n",
       "Date                                          \n",
       "2021-11-01               8683.64         NaN  \n",
       "2021-11-02               6817.64         NaN  \n",
       "2021-11-03               7752.86         NaN  \n",
       "2021-11-04              18814.73         NaN  \n",
       "2021-11-05              20964.69         NaN  "
      ]
     },
     "execution_count": 4,
     "metadata": {},
     "output_type": "execute_result"
    }
   ],
   "source": [
    "df.head()"
   ]
  },
  {
   "cell_type": "code",
   "execution_count": 5,
   "id": "72cf656b",
   "metadata": {},
   "outputs": [],
   "source": [
    "df_Full = df[(df[\"Vol ENVA [Hl]\"] > 2000) & (df[\"Vol ELAB [Hl]\"] > 3000)]"
   ]
  },
  {
   "cell_type": "code",
   "execution_count": 6,
   "id": "536a0687",
   "metadata": {},
   "outputs": [
    {
     "data": {
      "text/html": [
       "<div>\n",
       "<style scoped>\n",
       "    .dataframe tbody tr th:only-of-type {\n",
       "        vertical-align: middle;\n",
       "    }\n",
       "\n",
       "    .dataframe tbody tr th {\n",
       "        vertical-align: top;\n",
       "    }\n",
       "\n",
       "    .dataframe thead th {\n",
       "        text-align: right;\n",
       "    }\n",
       "</style>\n",
       "<table border=\"1\" class=\"dataframe\">\n",
       "  <thead>\n",
       "    <tr style=\"text-align: right;\">\n",
       "      <th></th>\n",
       "      <th>No.Mes</th>\n",
       "      <th>Vol ELAB [Hl]</th>\n",
       "      <th>Vol ENVA [Hl]</th>\n",
       "      <th>Consumo EE CLP [kWh]</th>\n",
       "    </tr>\n",
       "  </thead>\n",
       "  <tbody>\n",
       "    <tr>\n",
       "      <th>count</th>\n",
       "      <td>46.000000</td>\n",
       "      <td>46.000000</td>\n",
       "      <td>46.000000</td>\n",
       "      <td>46.000000</td>\n",
       "    </tr>\n",
       "    <tr>\n",
       "      <th>mean</th>\n",
       "      <td>7.521739</td>\n",
       "      <td>4393.214543</td>\n",
       "      <td>3499.341087</td>\n",
       "      <td>21274.810217</td>\n",
       "    </tr>\n",
       "    <tr>\n",
       "      <th>std</th>\n",
       "      <td>5.040896</td>\n",
       "      <td>648.834901</td>\n",
       "      <td>584.796475</td>\n",
       "      <td>1662.180709</td>\n",
       "    </tr>\n",
       "    <tr>\n",
       "      <th>min</th>\n",
       "      <td>1.000000</td>\n",
       "      <td>3041.532000</td>\n",
       "      <td>2020.480800</td>\n",
       "      <td>16450.040000</td>\n",
       "    </tr>\n",
       "    <tr>\n",
       "      <th>25%</th>\n",
       "      <td>1.250000</td>\n",
       "      <td>4034.475000</td>\n",
       "      <td>3269.500000</td>\n",
       "      <td>20426.690000</td>\n",
       "    </tr>\n",
       "    <tr>\n",
       "      <th>50%</th>\n",
       "      <td>11.000000</td>\n",
       "      <td>4439.600000</td>\n",
       "      <td>3558.160000</td>\n",
       "      <td>21317.125000</td>\n",
       "    </tr>\n",
       "    <tr>\n",
       "      <th>75%</th>\n",
       "      <td>12.000000</td>\n",
       "      <td>4587.250000</td>\n",
       "      <td>3869.000000</td>\n",
       "      <td>22386.840000</td>\n",
       "    </tr>\n",
       "    <tr>\n",
       "      <th>max</th>\n",
       "      <td>12.000000</td>\n",
       "      <td>6301.217000</td>\n",
       "      <td>4362.000000</td>\n",
       "      <td>25177.510000</td>\n",
       "    </tr>\n",
       "  </tbody>\n",
       "</table>\n",
       "</div>"
      ],
      "text/plain": [
       "          No.Mes  Vol ELAB [Hl]  Vol ENVA [Hl]  Consumo EE CLP [kWh]\n",
       "count  46.000000      46.000000      46.000000             46.000000\n",
       "mean    7.521739    4393.214543    3499.341087          21274.810217\n",
       "std     5.040896     648.834901     584.796475           1662.180709\n",
       "min     1.000000    3041.532000    2020.480800          16450.040000\n",
       "25%     1.250000    4034.475000    3269.500000          20426.690000\n",
       "50%    11.000000    4439.600000    3558.160000          21317.125000\n",
       "75%    12.000000    4587.250000    3869.000000          22386.840000\n",
       "max    12.000000    6301.217000    4362.000000          25177.510000"
      ]
     },
     "execution_count": 6,
     "metadata": {},
     "output_type": "execute_result"
    }
   ],
   "source": [
    "df_Full.describe()"
   ]
  },
  {
   "cell_type": "code",
   "execution_count": 7,
   "id": "5418b9e2",
   "metadata": {},
   "outputs": [
    {
     "data": {
      "text/plain": [
       "<seaborn.axisgrid.FacetGrid at 0x1d7aed5fdf0>"
      ]
     },
     "execution_count": 7,
     "metadata": {},
     "output_type": "execute_result"
    },
    {
     "data": {
      "image/png": "[encoded data removed]",
      "text/plain": [
       "<Figure size 360x360 with 1 Axes>"
      ]
     },
     "metadata": {
      "needs_background": "light"
     },
     "output_type": "display_data"
    }
   ],
   "source": [
    "sns.displot(df_Full[\"Consumo EE CLP [kWh]\"], kde=True, bins=20)"
   ]
  },
  {
   "cell_type": "code",
   "execution_count": 10,
   "id": "a077aecf",
   "metadata": {},
   "outputs": [
    {
     "data": {
      "text/plain": [
       "<seaborn.axisgrid.JointGrid at 0x1d7aee33880>"
      ]
     },
     "execution_count": 10,
     "metadata": {},
     "output_type": "execute_result"
    },
    {
     "data": {
      "image/png": "[encoded data removed]",
      "text/plain": [
       "<Figure size 432x432 with 3 Axes>"
      ]
     },
     "metadata": {
      "needs_background": "light"
     },
     "output_type": "display_data"
    }
   ],
   "source": [
    "sns.jointplot(x=df_Full[\"Vol ENVA [Hl]\"], y=df_Full[\"Consumo EE CLP [kWh]\"], data=df_Full, kind=\"reg\")"
   ]
  },
  {
   "cell_type": "code",
   "execution_count": 13,
   "id": "289e073a",
   "metadata": {},
   "outputs": [
    {
     "data": {
      "text/plain": [
       "<AxesSubplot:xlabel='Día', ylabel='Consumo EE CLP [kWh]'>"
      ]
     },
     "execution_count": 13,
     "metadata": {},
     "output_type": "execute_result"
    },
    {
     "data": {
      "image/png": "[encoded data removed]",
      "text/plain": [
       "<Figure size 432x288 with 1 Axes>"
      ]
     },
     "metadata": {
      "needs_background": "light"
     },
     "output_type": "display_data"
    }
   ],
   "source": [
    "sns.boxplot(x=df_Full[\"Día\"], y=df_Full[\"Consumo EE CLP [kWh]\"], data=df_Full, order=[\"lu\", \"ma\", \"mi\", \"ju\", \"vi\", \"sá\", \"do\",] )"
   ]
  },
  {
   "cell_type": "code",
   "execution_count": null,
   "id": "754aaecc",
   "metadata": {},
   "outputs": [],
   "source": []
  },
  {
   "cell_type": "code",
   "execution_count": 14,
   "id": "00c2ffe6",
   "metadata": {},
   "outputs": [
    {
     "data": {
      "text/plain": [
       "<AxesSubplot:xlabel='Día', ylabel='Consumo EE CLP [kWh]'>"
      ]
     },
     "execution_count": 14,
     "metadata": {},
     "output_type": "execute_result"
    },
    {
     "data": {
      "image/png": "[encoded data removed]",
      "text/plain": [
       "<Figure size 432x288 with 1 Axes>"
      ]
     },
     "metadata": {
      "needs_background": "light"
     },
     "output_type": "display_data"
    }
   ],
   "source": [
    "sns.boxplot(x=df[\"Día\"], y=df[\"Consumo EE CLP [kWh]\"], data=df, order=[\"lu\", \"ma\", \"mi\", \"ju\", \"vi\", \"sá\", \"do\",] )"
   ]
  },
  {
   "cell_type": "code",
   "execution_count": null,
   "id": "81d819be",
   "metadata": {},
   "outputs": [],
   "source": []
  },
  {
   "cell_type": "code",
   "execution_count": 16,
   "id": "090d75c6",
   "metadata": {},
   "outputs": [],
   "source": [
    "df_Down = df[(df[\"Vol ENVA [Hl]\"] < 1) & (df[\"Vol ELAB [Hl]\"] < 1)]"
   ]
  },
  {
   "cell_type": "code",
   "execution_count": 19,
   "id": "3fa186db",
   "metadata": {},
   "outputs": [
    {
     "data": {
      "text/html": [
       "<div>\n",
       "<style scoped>\n",
       "    .dataframe tbody tr th:only-of-type {\n",
       "        vertical-align: middle;\n",
       "    }\n",
       "\n",
       "    .dataframe tbody tr th {\n",
       "        vertical-align: top;\n",
       "    }\n",
       "\n",
       "    .dataframe thead th {\n",
       "        text-align: right;\n",
       "    }\n",
       "</style>\n",
       "<table border=\"1\" class=\"dataframe\">\n",
       "  <thead>\n",
       "    <tr style=\"text-align: right;\">\n",
       "      <th></th>\n",
       "      <th>No.Mes</th>\n",
       "      <th>Vol ELAB [Hl]</th>\n",
       "      <th>Vol ENVA [Hl]</th>\n",
       "      <th>Consumo EE CLP [kWh]</th>\n",
       "    </tr>\n",
       "  </thead>\n",
       "  <tbody>\n",
       "    <tr>\n",
       "      <th>count</th>\n",
       "      <td>17.000000</td>\n",
       "      <td>17.0</td>\n",
       "      <td>17.0</td>\n",
       "      <td>17.000000</td>\n",
       "    </tr>\n",
       "    <tr>\n",
       "      <th>mean</th>\n",
       "      <td>6.000000</td>\n",
       "      <td>0.0</td>\n",
       "      <td>0.0</td>\n",
       "      <td>8356.305882</td>\n",
       "    </tr>\n",
       "    <tr>\n",
       "      <th>std</th>\n",
       "      <td>5.123475</td>\n",
       "      <td>0.0</td>\n",
       "      <td>0.0</td>\n",
       "      <td>2385.905413</td>\n",
       "    </tr>\n",
       "    <tr>\n",
       "      <th>min</th>\n",
       "      <td>1.000000</td>\n",
       "      <td>0.0</td>\n",
       "      <td>0.0</td>\n",
       "      <td>1462.420000</td>\n",
       "    </tr>\n",
       "    <tr>\n",
       "      <th>25%</th>\n",
       "      <td>1.000000</td>\n",
       "      <td>0.0</td>\n",
       "      <td>0.0</td>\n",
       "      <td>7752.860000</td>\n",
       "    </tr>\n",
       "    <tr>\n",
       "      <th>50%</th>\n",
       "      <td>2.000000</td>\n",
       "      <td>0.0</td>\n",
       "      <td>0.0</td>\n",
       "      <td>8429.810000</td>\n",
       "    </tr>\n",
       "    <tr>\n",
       "      <th>75%</th>\n",
       "      <td>11.000000</td>\n",
       "      <td>0.0</td>\n",
       "      <td>0.0</td>\n",
       "      <td>9513.630000</td>\n",
       "    </tr>\n",
       "    <tr>\n",
       "      <th>max</th>\n",
       "      <td>12.000000</td>\n",
       "      <td>0.0</td>\n",
       "      <td>0.0</td>\n",
       "      <td>13440.900000</td>\n",
       "    </tr>\n",
       "  </tbody>\n",
       "</table>\n",
       "</div>"
      ],
      "text/plain": [
       "          No.Mes  Vol ELAB [Hl]  Vol ENVA [Hl]  Consumo EE CLP [kWh]\n",
       "count  17.000000           17.0           17.0             17.000000\n",
       "mean    6.000000            0.0            0.0           8356.305882\n",
       "std     5.123475            0.0            0.0           2385.905413\n",
       "min     1.000000            0.0            0.0           1462.420000\n",
       "25%     1.000000            0.0            0.0           7752.860000\n",
       "50%     2.000000            0.0            0.0           8429.810000\n",
       "75%    11.000000            0.0            0.0           9513.630000\n",
       "max    12.000000            0.0            0.0          13440.900000"
      ]
     },
     "execution_count": 19,
     "metadata": {},
     "output_type": "execute_result"
    }
   ],
   "source": [
    "df_Down.describe()"
   ]
  },
  {
   "cell_type": "code",
   "execution_count": null,
   "id": "7bb3a4e4",
   "metadata": {},
   "outputs": [],
   "source": []
  },
  {
   "cell_type": "code",
   "execution_count": 17,
   "id": "29d44648",
   "metadata": {},
   "outputs": [
    {
     "data": {
      "text/plain": [
       "<seaborn.axisgrid.FacetGrid at 0x1d7b0fddac0>"
      ]
     },
     "execution_count": 17,
     "metadata": {},
     "output_type": "execute_result"
    },
    {
     "data": {
      "image/png": "[encoded data removed]",
      "text/plain": [
       "<Figure size 360x360 with 1 Axes>"
      ]
     },
     "metadata": {
      "needs_background": "light"
     },
     "output_type": "display_data"
    }
   ],
   "source": [
    "sns.displot(df_Down[\"Consumo EE CLP [kWh]\"], kde=True, bins=20)"
   ]
  },
  {
   "cell_type": "code",
   "execution_count": 18,
   "id": "50071015",
   "metadata": {},
   "outputs": [
    {
     "data": {
      "text/plain": [
       "<AxesSubplot:xlabel='Día', ylabel='Consumo EE CLP [kWh]'>"
      ]
     },
     "execution_count": 18,
     "metadata": {},
     "output_type": "execute_result"
    },
    {
     "data": {
      "image/png": "[encoded data removed]",
      "text/plain": [
       "<Figure size 432x288 with 1 Axes>"
      ]
     },
     "metadata": {
      "needs_background": "light"
     },
     "output_type": "display_data"
    }
   ],
   "source": [
    "sns.boxplot(x=df_Down[\"Día\"], y=df_Down[\"Consumo EE CLP [kWh]\"], data=df_Down, order=[\"lu\", \"ma\", \"mi\", \"ju\", \"vi\", \"sá\", \"do\",] )"
   ]
  },
  {
   "cell_type": "code",
   "execution_count": null,
   "id": "dcb91120",
   "metadata": {},
   "outputs": [],
   "source": []
  },
  {
   "cell_type": "code",
   "execution_count": 20,
   "id": "608fe398",
   "metadata": {},
   "outputs": [],
   "source": [
    "df_Only_ENVA = df[(df[\"Vol ENVA [Hl]\"] > 2000) & (df[\"Vol ELAB [Hl]\"] < 1)]"
   ]
  },
  {
   "cell_type": "code",
   "execution_count": 21,
   "id": "a9369542",
   "metadata": {},
   "outputs": [
    {
     "data": {
      "text/html": [
       "<div>\n",
       "<style scoped>\n",
       "    .dataframe tbody tr th:only-of-type {\n",
       "        vertical-align: middle;\n",
       "    }\n",
       "\n",
       "    .dataframe tbody tr th {\n",
       "        vertical-align: top;\n",
       "    }\n",
       "\n",
       "    .dataframe thead th {\n",
       "        text-align: right;\n",
       "    }\n",
       "</style>\n",
       "<table border=\"1\" class=\"dataframe\">\n",
       "  <thead>\n",
       "    <tr style=\"text-align: right;\">\n",
       "      <th></th>\n",
       "      <th>No.Mes</th>\n",
       "      <th>Vol ELAB [Hl]</th>\n",
       "      <th>Vol ENVA [Hl]</th>\n",
       "      <th>Consumo EE CLP [kWh]</th>\n",
       "    </tr>\n",
       "  </thead>\n",
       "  <tbody>\n",
       "    <tr>\n",
       "      <th>count</th>\n",
       "      <td>6.000000</td>\n",
       "      <td>6.0</td>\n",
       "      <td>6.000000</td>\n",
       "      <td>6.000000</td>\n",
       "    </tr>\n",
       "    <tr>\n",
       "      <th>mean</th>\n",
       "      <td>6.500000</td>\n",
       "      <td>0.0</td>\n",
       "      <td>2719.782200</td>\n",
       "      <td>17194.350000</td>\n",
       "    </tr>\n",
       "    <tr>\n",
       "      <th>std</th>\n",
       "      <td>5.319774</td>\n",
       "      <td>0.0</td>\n",
       "      <td>613.423787</td>\n",
       "      <td>2336.147706</td>\n",
       "    </tr>\n",
       "    <tr>\n",
       "      <th>min</th>\n",
       "      <td>1.000000</td>\n",
       "      <td>0.0</td>\n",
       "      <td>2213.000000</td>\n",
       "      <td>14194.080000</td>\n",
       "    </tr>\n",
       "    <tr>\n",
       "      <th>25%</th>\n",
       "      <td>2.000000</td>\n",
       "      <td>0.0</td>\n",
       "      <td>2336.496000</td>\n",
       "      <td>15802.747500</td>\n",
       "    </tr>\n",
       "    <tr>\n",
       "      <th>50%</th>\n",
       "      <td>6.500000</td>\n",
       "      <td>0.0</td>\n",
       "      <td>2568.500000</td>\n",
       "      <td>17262.480000</td>\n",
       "    </tr>\n",
       "    <tr>\n",
       "      <th>75%</th>\n",
       "      <td>11.000000</td>\n",
       "      <td>0.0</td>\n",
       "      <td>2761.067500</td>\n",
       "      <td>17944.822500</td>\n",
       "    </tr>\n",
       "    <tr>\n",
       "      <th>max</th>\n",
       "      <td>12.000000</td>\n",
       "      <td>0.0</td>\n",
       "      <td>3884.275200</td>\n",
       "      <td>20958.620000</td>\n",
       "    </tr>\n",
       "  </tbody>\n",
       "</table>\n",
       "</div>"
      ],
      "text/plain": [
       "          No.Mes  Vol ELAB [Hl]  Vol ENVA [Hl]  Consumo EE CLP [kWh]\n",
       "count   6.000000            6.0       6.000000              6.000000\n",
       "mean    6.500000            0.0    2719.782200          17194.350000\n",
       "std     5.319774            0.0     613.423787           2336.147706\n",
       "min     1.000000            0.0    2213.000000          14194.080000\n",
       "25%     2.000000            0.0    2336.496000          15802.747500\n",
       "50%     6.500000            0.0    2568.500000          17262.480000\n",
       "75%    11.000000            0.0    2761.067500          17944.822500\n",
       "max    12.000000            0.0    3884.275200          20958.620000"
      ]
     },
     "execution_count": 21,
     "metadata": {},
     "output_type": "execute_result"
    }
   ],
   "source": [
    "df_Only_ENVA.describe()"
   ]
  },
  {
   "cell_type": "code",
   "execution_count": 22,
   "id": "df5b1599",
   "metadata": {},
   "outputs": [
    {
     "data": {
      "text/plain": [
       "<seaborn.axisgrid.FacetGrid at 0x1d7b251df70>"
      ]
     },
     "execution_count": 22,
     "metadata": {},
     "output_type": "execute_result"
    },
    {
     "data": {
      "image/png": "[encoded data removed]",
      "text/plain": [
       "<Figure size 360x360 with 1 Axes>"
      ]
     },
     "metadata": {
      "needs_background": "light"
     },
     "output_type": "display_data"
    }
   ],
   "source": [
    "sns.displot(df_Only_ENVA[\"Consumo EE CLP [kWh]\"], kde=True, bins=20)"
   ]
  },
  {
   "cell_type": "code",
   "execution_count": 23,
   "id": "4f37aff1",
   "metadata": {},
   "outputs": [
    {
     "data": {
      "text/plain": [
       "<seaborn.axisgrid.JointGrid at 0x1d7b1b92700>"
      ]
     },
     "execution_count": 23,
     "metadata": {},
     "output_type": "execute_result"
    },
    {
     "data": {
      "image/png": "[encoded data removed]",
      "text/plain": [
       "<Figure size 432x432 with 3 Axes>"
      ]
     },
     "metadata": {
      "needs_background": "light"
     },
     "output_type": "display_data"
    }
   ],
   "source": [
    "sns.jointplot(x=df_Only_ENVA[\"Vol ENVA [Hl]\"], y=df_Only_ENVA[\"Consumo EE CLP [kWh]\"], data=df_Only_ENVA, kind=\"reg\")"
   ]
  },
  {
   "cell_type": "code",
   "execution_count": 24,
   "id": "27290efb",
   "metadata": {},
   "outputs": [
    {
     "data": {
      "text/plain": [
       "<AxesSubplot:xlabel='Día', ylabel='Consumo EE CLP [kWh]'>"
      ]
     },
     "execution_count": 24,
     "metadata": {},
     "output_type": "execute_result"
    },
    {
     "data": {
      "image/png": "[encoded data removed]",
      "text/plain": [
       "<Figure size 432x288 with 1 Axes>"
      ]
     },
     "metadata": {
      "needs_background": "light"
     },
     "output_type": "display_data"
    }
   ],
   "source": [
    "sns.boxplot(x=df_Only_ENVA[\"Día\"], y=df_Only_ENVA[\"Consumo EE CLP [kWh]\"], data=df_Only_ENVA, order=[\"lu\", \"ma\", \"mi\", \"ju\", \"vi\", \"sá\", \"do\",] )"
   ]
  },
  {
   "cell_type": "code",
   "execution_count": null,
   "id": "b38f3a7a",
   "metadata": {},
   "outputs": [],
   "source": []
  },
  {
   "cell_type": "code",
   "execution_count": 25,
   "id": "143f562d",
   "metadata": {},
   "outputs": [],
   "source": [
    "df_Only_SACO = df[(df[\"Vol ENVA [Hl]\"] < 1) & (df[\"Vol ELAB [Hl]\"] > 2000)]"
   ]
  },
  {
   "cell_type": "code",
   "execution_count": 26,
   "id": "60d32681",
   "metadata": {},
   "outputs": [
    {
     "data": {
      "text/html": [
       "<div>\n",
       "<style scoped>\n",
       "    .dataframe tbody tr th:only-of-type {\n",
       "        vertical-align: middle;\n",
       "    }\n",
       "\n",
       "    .dataframe tbody tr th {\n",
       "        vertical-align: top;\n",
       "    }\n",
       "\n",
       "    .dataframe thead th {\n",
       "        text-align: right;\n",
       "    }\n",
       "</style>\n",
       "<table border=\"1\" class=\"dataframe\">\n",
       "  <thead>\n",
       "    <tr style=\"text-align: right;\">\n",
       "      <th></th>\n",
       "      <th>No.Mes</th>\n",
       "      <th>Vol ELAB [Hl]</th>\n",
       "      <th>Vol ENVA [Hl]</th>\n",
       "      <th>Consumo EE CLP [kWh]</th>\n",
       "    </tr>\n",
       "  </thead>\n",
       "  <tbody>\n",
       "    <tr>\n",
       "      <th>count</th>\n",
       "      <td>4.000000</td>\n",
       "      <td>4.000000</td>\n",
       "      <td>4.0</td>\n",
       "      <td>4.000000</td>\n",
       "    </tr>\n",
       "    <tr>\n",
       "      <th>mean</th>\n",
       "      <td>3.750000</td>\n",
       "      <td>3153.761000</td>\n",
       "      <td>0.0</td>\n",
       "      <td>12909.977500</td>\n",
       "    </tr>\n",
       "    <tr>\n",
       "      <th>std</th>\n",
       "      <td>4.856267</td>\n",
       "      <td>1361.400035</td>\n",
       "      <td>0.0</td>\n",
       "      <td>2478.822389</td>\n",
       "    </tr>\n",
       "    <tr>\n",
       "      <th>min</th>\n",
       "      <td>1.000000</td>\n",
       "      <td>2295.020000</td>\n",
       "      <td>0.0</td>\n",
       "      <td>10451.490000</td>\n",
       "    </tr>\n",
       "    <tr>\n",
       "      <th>25%</th>\n",
       "      <td>1.000000</td>\n",
       "      <td>2298.803000</td>\n",
       "      <td>0.0</td>\n",
       "      <td>11644.042500</td>\n",
       "    </tr>\n",
       "    <tr>\n",
       "      <th>50%</th>\n",
       "      <td>1.500000</td>\n",
       "      <td>2581.897500</td>\n",
       "      <td>0.0</td>\n",
       "      <td>12434.195000</td>\n",
       "    </tr>\n",
       "    <tr>\n",
       "      <th>75%</th>\n",
       "      <td>4.250000</td>\n",
       "      <td>3436.855500</td>\n",
       "      <td>0.0</td>\n",
       "      <td>13700.130000</td>\n",
       "    </tr>\n",
       "    <tr>\n",
       "      <th>max</th>\n",
       "      <td>11.000000</td>\n",
       "      <td>5156.229000</td>\n",
       "      <td>0.0</td>\n",
       "      <td>16320.030000</td>\n",
       "    </tr>\n",
       "  </tbody>\n",
       "</table>\n",
       "</div>"
      ],
      "text/plain": [
       "          No.Mes  Vol ELAB [Hl]  Vol ENVA [Hl]  Consumo EE CLP [kWh]\n",
       "count   4.000000       4.000000            4.0              4.000000\n",
       "mean    3.750000    3153.761000            0.0          12909.977500\n",
       "std     4.856267    1361.400035            0.0           2478.822389\n",
       "min     1.000000    2295.020000            0.0          10451.490000\n",
       "25%     1.000000    2298.803000            0.0          11644.042500\n",
       "50%     1.500000    2581.897500            0.0          12434.195000\n",
       "75%     4.250000    3436.855500            0.0          13700.130000\n",
       "max    11.000000    5156.229000            0.0          16320.030000"
      ]
     },
     "execution_count": 26,
     "metadata": {},
     "output_type": "execute_result"
    }
   ],
   "source": [
    "df_Only_SACO.describe()"
   ]
  },
  {
   "cell_type": "code",
   "execution_count": 27,
   "id": "4daf19ca",
   "metadata": {},
   "outputs": [
    {
     "data": {
      "text/plain": [
       "<seaborn.axisgrid.FacetGrid at 0x1d7b2b4bb50>"
      ]
     },
     "execution_count": 27,
     "metadata": {},
     "output_type": "execute_result"
    },
    {
     "data": {
      "image/png": "[encoded data removed]",
      "text/plain": [
       "<Figure size 360x360 with 1 Axes>"
      ]
     },
     "metadata": {
      "needs_background": "light"
     },
     "output_type": "display_data"
    }
   ],
   "source": [
    "sns.displot(df_Only_SACO[\"Consumo EE CLP [kWh]\"], kde=True, bins=20)"
   ]
  },
  {
   "cell_type": "code",
   "execution_count": 28,
   "id": "22b2e177",
   "metadata": {},
   "outputs": [
    {
     "data": {
      "text/plain": [
       "<AxesSubplot:xlabel='Día', ylabel='Consumo EE CLP [kWh]'>"
      ]
     },
     "execution_count": 28,
     "metadata": {},
     "output_type": "execute_result"
    },
    {
     "data": {
      "image/png": "[encoded data removed]",
      "text/plain": [
       "<Figure size 432x288 with 1 Axes>"
      ]
     },
     "metadata": {
      "needs_background": "light"
     },
     "output_type": "display_data"
    }
   ],
   "source": [
    "sns.boxplot(x=df_Only_SACO[\"Día\"], y=df_Only_SACO[\"Consumo EE CLP [kWh]\"], data=df_Only_SACO, order=[\"lu\", \"ma\", \"mi\", \"ju\", \"vi\", \"sá\", \"do\",] )"
   ]
  },
  {
   "cell_type": "code",
   "execution_count": null,
   "id": "1aa70134",
   "metadata": {},
   "outputs": [],
   "source": []
  },
  {
   "cell_type": "code",
   "execution_count": null,
   "id": "d8d467d6",
   "metadata": {},
   "outputs": [],
   "source": []
  }
 ],
 "metadata": {
  "kernelspec": {
   "display_name": "Python 3",
   "language": "python",
   "name": "python3"
  },
  "language_info": {
   "codemirror_mode": {
    "name": "ipython",
    "version": 3
   },
   "file_extension": ".py",
   "mimetype": "text/x-python",
   "name": "python",
   "nbconvert_exporter": "python",
   "pygments_lexer": "ipython3",
   "version": "3.8.8"
  }
 },
 "nbformat": 4,
 "nbformat_minor": 5
}
